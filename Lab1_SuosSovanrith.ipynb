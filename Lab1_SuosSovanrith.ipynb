{
  "cells": [
    {
      "cell_type": "markdown",
      "metadata": {
        "id": "view-in-github",
        "colab_type": "text"
      },
      "source": [
        "<a href=\"https://colab.research.google.com/github/SuosSovanrith/DataAnalysisI/blob/main/Lab1_SuosSovanrith.ipynb\" target=\"_parent\"><img src=\"https://colab.research.google.com/assets/colab-badge.svg\" alt=\"Open In Colab\"/></a>"
      ]
    },
    {
      "cell_type": "markdown",
      "metadata": {
        "id": "MCmDc5ges3HZ"
      },
      "source": [
        "# **Lab1: Introduction to Data Analysis**\n",
        "\n",
        "**Course**: **INF-604: Data Analysis** <br>\n",
        "**Lecturer**: **Sothea HAS, PhD**\n",
        "\n",
        "-----\n",
        "\n",
        "**Objective:**  You have already seen some elements of Data Analysis in the course. In this lab, we will take our first step into working with the main element of Data Analysis, which is the dataset. By the end of this lab, you will be able to import data into a Jupyter Notebook and perform some data manipulation.\n",
        "\n",
        "- The `notebook` of this `Lab` can be downloaded here: [Lab1_Introduction.ipynb](https://hassothea.github.io/Data_Analysis_AUPP/Labs/Lab1_Introduction.ipynb).\n",
        "\n",
        "- Or you can work directly with `Google Colab` here: [Lab1_Introduction.ipynb](https://colab.research.google.com/drive/14L1fgW35_yZAW3BIsG-oGLxBO0lXANMO?usp=sharing).\n",
        "\n",
        "-----\n"
      ]
    },
    {
      "cell_type": "markdown",
      "metadata": {
        "id": "bjvkduBis3Hb"
      },
      "source": [
        "- `Student's name:`\n",
        "- `Year:`\n",
        "- `Major:` ...\n",
        "\n",
        "-----"
      ]
    },
    {
      "cell_type": "markdown",
      "metadata": {
        "id": "qa4e2Awps3Hb"
      },
      "source": [
        "## **1. Data for Your Business**\n",
        "\n",
        "Imagine you want to start your own business, such as a coffee shop or a bookstore. What types of data do you think you need to gather to determine the potential success of your business? Here are some questions to help you think and answer this question:\n",
        "\n",
        "- What is your plan for the business?\n",
        "\n",
        "- What information might you need to collect? What is the size of the data?\n",
        "\n",
        "- Where do you think you can find this information?\n",
        "\n",
        "- What might go wrong with the collected data?\n",
        "\n",
        "- We handle such problems in what step of Data Analysis process?"
      ]
    },
    {
      "cell_type": "markdown",
      "metadata": {
        "id": "DBDBJe1Ns3Hb"
      },
      "source": [
        "`Answer:`\n",
        "\n",
        "\n",
        "\n",
        "---------\n"
      ]
    },
    {
      "cell_type": "markdown",
      "metadata": {
        "id": "AazQoTKqs3Hb"
      },
      "source": [
        "## **2. Importing Some Data**\n",
        "\n",
        "\n",
        "There are many online data sources that you can explore, and one of the most popular is [`Kaggle`](https://www.kaggle.com/datasets/). In addition to datasets, `Kaggle` also hosts data competitions with prizes and offers courses to help you advance in data learning.\n",
        "\n",
        "\n",
        "Here, we start our journey by exploring a dataset that you probably have heard its name before: [`Titanic`](https://www.kaggle.com/datasets/mahmoudsaadmohamed/titanic-dataset). You can download it from `Kaggle` using the following codes."
      ]
    },
    {
      "cell_type": "code",
      "execution_count": null,
      "metadata": {
        "id": "vTkHlQrYs3Hc"
      },
      "outputs": [],
      "source": [
        "# %pip install kagglehub\n",
        "\n",
        "import kagglehub\n",
        "\n",
        "# Download latest version\n",
        "path = kagglehub.dataset_download(\"yasserh/titanic-dataset\")\n",
        "\n",
        "\n",
        "# Pandas module allows you to import the data\n",
        "import pandas as pd\n",
        "data = pd.read_csv(path+'/Titanic-Dataset.csv')\n",
        "data.head(10)"
      ]
    },
    {
      "cell_type": "markdown",
      "metadata": {
        "id": "6SoAfUmcs3Hd"
      },
      "source": [
        "-------\n",
        "\n",
        "### **2.1. Overview of the data**\n",
        "\n",
        "\n",
        "Answer the following questions:\n",
        "\n",
        "**A.** How many rows and columns are there in this dataset?\n",
        "\n",
        "**B.** Explain the meaning of each column.\n",
        "\n",
        "**C.** Are there any missing values in this dataset? If so, how many rows contain at least one missing value?\n",
        "\n",
        "- What should you do with column `Cabin`?\n",
        "\n",
        "- How would you drop rows with at least one missing value?\n",
        "\n",
        "\n",
        "------------------"
      ]
    },
    {
      "cell_type": "code",
      "execution_count": null,
      "metadata": {
        "id": "_tkX3UZqs3Hd"
      },
      "outputs": [],
      "source": [
        "# To do"
      ]
    },
    {
      "cell_type": "markdown",
      "metadata": {
        "id": "mMko4at5s3Hd"
      },
      "source": [
        "-------\n",
        "\n",
        "### **2.2. Single information**\n",
        "\n",
        "\n",
        "**D.** How many male and female passengers were on the ship?\n",
        "\n",
        "**E.** How many of them survived? How many didn't?\n",
        "\n",
        "**F.** How many passengers were younger than 3 years old? How many were older than 60 years old?\n",
        "\n",
        "**G.** How many passengers embarked from the three ports?\n",
        "\n",
        "- `C`: Cherbourg, France.\n",
        "- `Q`: Queentown, Ireland.\n",
        "- `S`: Southampton, England.\n",
        "\n",
        "**H.** How many passengers were in the 1st, 2nd and 3rd class?\n"
      ]
    },
    {
      "cell_type": "code",
      "source": [
        "# To do"
      ],
      "metadata": {
        "id": "cV3xpeC8jhZd"
      },
      "execution_count": null,
      "outputs": []
    },
    {
      "cell_type": "markdown",
      "metadata": {
        "id": "SQapFgh4s3Hd"
      },
      "source": [
        "-------------\n",
        "\n",
        "### **2.3. Multiple information**\n",
        "\n",
        "**I.** How many 1st class passengers survived? How about 2nd and 3rd class?\n",
        "\n",
        "**J.** How many female passengers survived? How many males did?\n",
        "\n",
        "**K.** How many people from each embarkation port survived?\n",
        "\n",
        "**L.** Was `Jack` on the ship? How about `Rose`?"
      ]
    },
    {
      "cell_type": "code",
      "source": [
        "# To do"
      ],
      "metadata": {
        "id": "u1l846yGjlMM"
      },
      "execution_count": null,
      "outputs": []
    },
    {
      "cell_type": "markdown",
      "metadata": {
        "id": "CPWp7vNbs3Hd"
      },
      "source": [
        "# **Further Reading**\n",
        "\n",
        "- `Pandas` python library: https://pandas.pydata.org/docs/getting_started/index.html#getting-started\n",
        "\n",
        "- `10 Minute to Pandas`: https://pandas.pydata.org/docs/user_guide/10min.html\n",
        "\n",
        "- `Some Pandas Lession`: https://www.kaggle.com/learn/pandas\n",
        "\n",
        "---------"
      ]
    }
  ],
  "metadata": {
    "kernelspec": {
      "display_name": "Python 3",
      "language": "python",
      "name": "python3"
    },
    "language_info": {
      "codemirror_mode": {
        "name": "ipython",
        "version": 3
      },
      "file_extension": ".py",
      "mimetype": "text/x-python",
      "name": "python",
      "nbconvert_exporter": "python",
      "pygments_lexer": "ipython3",
      "version": "3.12.5"
    },
    "colab": {
      "provenance": [],
      "include_colab_link": true
    }
  },
  "nbformat": 4,
  "nbformat_minor": 0
}